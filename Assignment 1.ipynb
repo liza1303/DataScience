{
 "cells": [
  {
   "cell_type": "code",
   "execution_count": 1,
   "id": "7dd8c281",
   "metadata": {},
   "outputs": [],
   "source": [
    "class raw:\n",
    "    def __init__(self,num):\n",
    "        self.num = num\n",
    "    def getnum(self):\n",
    "        return self.num\n",
    "    def add (self,n2):\n",
    "        return self.num + n2.num\n",
    "    \n",
    "    def raisedTo(self,n2):\n",
    "        return self.num ** n2.num\n",
    "    \n",
    "    def concat(self,n2):\n",
    "        return str(self.num) + str(n2.num)\n",
    "    \n",
    "    def max(self,n2):\n",
    "        return max(self.num,n2.num)\n",
    "    \n",
    "    def min(self,n2):\n",
    "        return min(self.num,n2.num)\n",
    "   \n",
    "\n",
    "n1 = raw(7)\n",
    "n2 = raw(2)\n",
    "n3 = n1.add(n2)\n",
    "n4 = n1.raisedTo(n2)\n",
    "n5 = n1.concat(n2)\n",
    "n6 = n1.max(n2)\n",
    "n7 = n1.min(n2)"
   ]
  },
  {
   "cell_type": "code",
   "execution_count": 2,
   "id": "ccd6e402",
   "metadata": {},
   "outputs": [
    {
     "name": "stdout",
     "output_type": "stream",
     "text": [
      "9\n",
      "49\n",
      "72\n",
      "7\n",
      "2\n"
     ]
    }
   ],
   "source": [
    "print(n3)\n",
    "print(n4)\n",
    "print(n5)\n",
    "print(n6)\n",
    "print(n7)"
   ]
  },
  {
   "cell_type": "code",
   "execution_count": null,
   "id": "8c8188f7",
   "metadata": {},
   "outputs": [],
   "source": [
    "#Q1. wrie a python program to access following data structure lab manual 3"
   ]
  },
  {
   "cell_type": "code",
   "execution_count": 5,
   "id": "d2754dc8",
   "metadata": {},
   "outputs": [],
   "source": [
    "data=[(12345,\"Diksha\",\"Dikshar@nuv.ac.in\"),(45667,\"Jiva\",\"Jiva@nuv.ac.in\"),(16789,\"Ronit\",\"Ronitd@nuv.ac.in\"),(69433,\"Heena\",\"Heena@nuv.ac.in\")]"
   ]
  },
  {
   "cell_type": "code",
   "execution_count": 6,
   "id": "e1d69b03",
   "metadata": {},
   "outputs": [
    {
     "name": "stdout",
     "output_type": "stream",
     "text": [
      "Enter the Name :Jiva\n",
      "(45667, 'Jiva', 'Jiva@nuv.ac.in')\n"
     ]
    }
   ],
   "source": [
    "a = input(\"Enter the Name :\")\n",
    "for i in data:\n",
    "    if i[1] == a:\n",
    "        print(i)"
   ]
  },
  {
   "cell_type": "code",
   "execution_count": 43,
   "id": "abeb7638",
   "metadata": {},
   "outputs": [
    {
     "name": "stdout",
     "output_type": "stream",
     "text": [
      "Enter the ID12345\n",
      "(12345, 'Diksha', 'Dikshar@nuv.ac.in')\n"
     ]
    }
   ],
   "source": [
    "a = int(input(\"Enter the ID\"))\n",
    "for i in data:\n",
    "    if i[0]==a:\n",
    "        print(i)"
   ]
  },
  {
   "cell_type": "code",
   "execution_count": 44,
   "id": "f80e2914",
   "metadata": {},
   "outputs": [],
   "source": [
    "#Q2. write a python program to access following dictionary"
   ]
  },
  {
   "cell_type": "code",
   "execution_count": 2,
   "id": "15724207",
   "metadata": {},
   "outputs": [],
   "source": [
    "#Mydict = {\n",
    "    #\"Enrollment id\": [12345, 45667, 16789, 69433],\n",
    "    #\"Student Name\": [\"Diksha\", \"Jiva\", \"Ronit\", \"Heena\"],\n",
    "    #\"Email ID\": [\"Dikshar@nuv.ac.in\", \"Jiva@nuv.ac.in\", \"Ronitd@nuv.ac.in\", \"Heena@nuv.ac.in\"]\n",
    "#}\n",
    "#print(f\"{entollid:<7}{sname:12}{emailid:25}\")\n",
    "\n"
   ]
  },
  {
   "cell_type": "code",
   "execution_count": 12,
   "id": "7dd0ae19",
   "metadata": {},
   "outputs": [
    {
     "name": "stdout",
     "output_type": "stream",
     "text": [
      "Enrollment ID12345\n",
      "12345  Diksha      Dikshar@nuv.ac.in        \n"
     ]
    }
   ],
   "source": [
    "Mydict = {\n",
    "    \"Enrollment id\": [12345, 45667, 16789, 69433],\n",
    "    \"Student Name\": [\"Diksha\", \"Jiva\", \"Ronit\", \"Heena\"],\n",
    "    \"Email ID\": [\"Dikshar@nuv.ac.in\", \"Jiva@nuv.ac.in\", \"Ronitd@nuv.ac.in\", \"Heena@nuv.ac.in\"]\n",
    "}\n",
    "a = int(input(\"Enrollment ID\"))\n",
    "\n",
    "for i in range (len(Mydict[\"Enrollment id\"])):\n",
    "    if Mydict[\"Enrollment id\"][i]==a:\n",
    "        enroll = Mydict[\"Enrollment id\"][i]\n",
    "        sname = Mydict[\"Student Name\"][i]\n",
    "        semail= Mydict[\"Email ID\"][i]\n",
    "print(f\"{enroll:<7}{sname:12}{semail:25}\")\n"
   ]
  },
  {
   "cell_type": "code",
   "execution_count": 20,
   "id": "87490359",
   "metadata": {},
   "outputs": [
    {
     "name": "stdout",
     "output_type": "stream",
     "text": [
      "enter the value12345\n"
     ]
    },
    {
     "ename": "KeyError",
     "evalue": "'12345'",
     "output_type": "error",
     "traceback": [
      "\u001b[1;31m---------------------------------------------------------------------------\u001b[0m",
      "\u001b[1;31mKeyError\u001b[0m                                  Traceback (most recent call last)",
      "Input \u001b[1;32mIn [20]\u001b[0m, in \u001b[0;36m<cell line: 7>\u001b[1;34m()\u001b[0m\n\u001b[0;32m      1\u001b[0m Mydict \u001b[38;5;241m=\u001b[39m {\n\u001b[0;32m      2\u001b[0m     \u001b[38;5;124m\"\u001b[39m\u001b[38;5;124mEnrollment id\u001b[39m\u001b[38;5;124m\"\u001b[39m: [\u001b[38;5;241m12345\u001b[39m, \u001b[38;5;241m45667\u001b[39m, \u001b[38;5;241m16789\u001b[39m, \u001b[38;5;241m69433\u001b[39m],\n\u001b[0;32m      3\u001b[0m     \u001b[38;5;124m\"\u001b[39m\u001b[38;5;124mStudent Name\u001b[39m\u001b[38;5;124m\"\u001b[39m: [\u001b[38;5;124m\"\u001b[39m\u001b[38;5;124mDiksha\u001b[39m\u001b[38;5;124m\"\u001b[39m, \u001b[38;5;124m\"\u001b[39m\u001b[38;5;124mJiva\u001b[39m\u001b[38;5;124m\"\u001b[39m, \u001b[38;5;124m\"\u001b[39m\u001b[38;5;124mRonit\u001b[39m\u001b[38;5;124m\"\u001b[39m, \u001b[38;5;124m\"\u001b[39m\u001b[38;5;124mHeena\u001b[39m\u001b[38;5;124m\"\u001b[39m],\n\u001b[0;32m      4\u001b[0m     \u001b[38;5;124m\"\u001b[39m\u001b[38;5;124mEmail ID\u001b[39m\u001b[38;5;124m\"\u001b[39m: [\u001b[38;5;124m\"\u001b[39m\u001b[38;5;124mDikshar@nuv.ac.in\u001b[39m\u001b[38;5;124m\"\u001b[39m, \u001b[38;5;124m\"\u001b[39m\u001b[38;5;124mJiva@nuv.ac.in\u001b[39m\u001b[38;5;124m\"\u001b[39m, \u001b[38;5;124m\"\u001b[39m\u001b[38;5;124mRonitd@nuv.ac.in\u001b[39m\u001b[38;5;124m\"\u001b[39m, \u001b[38;5;124m\"\u001b[39m\u001b[38;5;124mHeena@nuv.ac.in\u001b[39m\u001b[38;5;124m\"\u001b[39m]\n\u001b[0;32m      5\u001b[0m }\n\u001b[0;32m      6\u001b[0m a \u001b[38;5;241m=\u001b[39m \u001b[38;5;28minput\u001b[39m(\u001b[38;5;124m\"\u001b[39m\u001b[38;5;124menter the value\u001b[39m\u001b[38;5;124m\"\u001b[39m)\n\u001b[1;32m----> 7\u001b[0m \u001b[38;5;28;01mfor\u001b[39;00m d \u001b[38;5;129;01min\u001b[39;00m \u001b[43mMydict\u001b[49m\u001b[43m[\u001b[49m\u001b[43ma\u001b[49m\u001b[43m]\u001b[49m:\n\u001b[0;32m      8\u001b[0m     \u001b[38;5;28;01mif\u001b[39;00m a \u001b[38;5;129;01min\u001b[39;00m Mydict[a]:\n\u001b[0;32m      9\u001b[0m         index \u001b[38;5;241m=\u001b[39m Mydict[d]\u001b[38;5;241m.\u001b[39mindex(a)\n",
      "\u001b[1;31mKeyError\u001b[0m: '12345'"
     ]
    }
   ],
   "source": [
    "Mydict = {\n",
    "    \"Enrollment id\": [12345, 45667, 16789, 69433],\n",
    "    \"Student Name\": [\"Diksha\", \"Jiva\", \"Ronit\", \"Heena\"],\n",
    "    \"Email ID\": [\"Dikshar@nuv.ac.in\", \"Jiva@nuv.ac.in\", \"Ronitd@nuv.ac.in\", \"Heena@nuv.ac.in\"]\n",
    "}\n",
    "a = input(\"enter the value\")\n",
    "for d in Mydict[a]:\n",
    "    if a in Mydict[a]:\n",
    "        index = Mydict[d].index(a)\n",
    "        enrollid = Mydict[\"Enrollment id \"][index]\n",
    "        sname = Mydict[\"Student Name\"][index]\n",
    "        email = Mydict[\"Email ID\"]\n",
    "print(f\"{enroll:<7}{sname:12}{semail:25}\")"
   ]
  },
  {
   "cell_type": "code",
   "execution_count": 16,
   "id": "c82468dd",
   "metadata": {},
   "outputs": [],
   "source": [
    "#Q3. Write a python program to convert data in nested list structure to dictionary."
   ]
  },
  {
   "cell_type": "code",
   "execution_count": 18,
   "id": "911eeba4",
   "metadata": {},
   "outputs": [],
   "source": [
    "#data = [(12345,\"Diksha\",\"Dikshar@nuv.ac.in\"),(45667,\"Jiva\",\"Jiva@nuv.ac.in\"),(16789,\"Ronit\",\"Ronitd@nuv.ac.in\"),(69433,\"Heena\",\"Heena@nuv.ac.in\")]\n",
    "#provide key such as Enrollment id, Student Name, and Email id.Resultant Data\n",
    "\n",
    "#Mydict = {\n",
    "    #\"Enrollment id\": [12345, 45667, 16789, 69433],\n",
    "    #\"Student Name\": [\"Diksha\", \"Jiva\", \"Ronit\", \"Heena\"],\n",
    "    #\"Email ID\": [\"Dikshar@nuv.ac.in\", \"Jiva@nuv.ac.in\", \"Ronitd@nuv.ac.in\", \"Heena@nuv.ac.in\"]\n",
    "#}"
   ]
  },
  {
   "cell_type": "code",
   "execution_count": 21,
   "id": "546e0adc",
   "metadata": {},
   "outputs": [
    {
     "name": "stdout",
     "output_type": "stream",
     "text": [
      "{'Enrollment ID': [12345, 45667, 16789, 69433], 'Sname': ['Diksha', 'Jiva', 'Ronit', 'Heena'], 'Semail': ['Dikshar@nuv.ac.in', 'Jiva@nuv.ac.in', 'Ronitd@nuv.ac.in', 'Heena@nuv.ac.in']}\n"
     ]
    }
   ],
   "source": [
    "data=[(12345,\"Diksha\",\"Dikshar@nuv.ac.in\"),(45667,\"Jiva\",\"Jiva@nuv.ac.in\"),(16789,\"Ronit\",\"Ronitd@nuv.ac.in\"),(69433,\"Heena\",\"Heena@nuv.ac.in\")]\n",
    "Mydict = {\"Enrollment ID\":[],\"Sname\":[],\"Semail\":[]}\n",
    "for i in data:\n",
    "    Mydict[\"Enrollment ID\"].append(i[0])\n",
    "    Mydict[\"Sname\"].append(i[1])\n",
    "    Mydict[\"Semail\"].append(i[2])\n",
    "print(Mydict)\n",
    "    "
   ]
  },
  {
   "cell_type": "code",
   "execution_count": null,
   "id": "0b4564bf",
   "metadata": {},
   "outputs": [],
   "source": [
    "#Q4. write a menu driven Object Oriented program to store Student details like Enrollment No, Student Name and Contact Number permanently using dictionary data srtucture. Add functions to add, update, delete and display data. Save data permanently in a JSON file.\n",
    "#HINT: To import json library\n",
    "\n",
    "#import json \n",
    "#To write any object to python\n",
    "#fw = open(\"students.json\",\"w\")\n",
    "#jsndata = json.dumps(dictionary of student s details)#dumps and converts dictionary to json\n",
    "#fw.write(jsndata)\n",
    "#To read any json object from file\n",
    "#fr = open(\"srudents.json\",\"r\")\n",
    "#all students = json.load(fr)#reads whole file and returns the data"
   ]
  },
  {
   "cell_type": "code",
   "execution_count": 10,
   "id": "84882e60",
   "metadata": {},
   "outputs": [
    {
     "name": "stdout",
     "output_type": "stream",
     "text": [
      "{'name': 'tina', 'rollno': 22000231, 'cgpa': 6.6, 'phonenumber': 1223334434}\n"
     ]
    }
   ],
   "source": [
    "import json\n",
    "\n",
    "\n",
    "\n",
    "a = {\n",
    "    \"name\": \"tina\",\n",
    "    \"rollno\": 22000231,\n",
    "    \"cgpa\": 6.6,\n",
    "    \"phonenumber\": 1223334434\n",
    "}\n",
    "\n",
    "#to write a file\n",
    "f=open(\"BCAStudents.json\",\"w\")\n",
    "data=json.dumps(a,indent=4)\n",
    "f.write(data)\n",
    "\n",
    "#read data from file \n",
    "f=open(\"BCAStudents.json\",\"r\")\n",
    "detail=json.load(f)\n",
    "print(detail)\n"
   ]
  },
  {
   "cell_type": "code",
   "execution_count": 17,
   "id": "709781e3",
   "metadata": {},
   "outputs": [
    {
     "data": {
      "text/plain": [
       "94"
      ]
     },
     "execution_count": 17,
     "metadata": {},
     "output_type": "execute_result"
    }
   ],
   "source": [
    "a = {\n",
    "    \"name\": \"mina\",\n",
    "    \"rollno\": 22000239,\n",
    "    \"cgpa\": 6.2,\n",
    "    \"phonenumber\": 1287794434\n",
    "}\n",
    "\n",
    "#to append in the file\n",
    "\n",
    "f=open(\"BCAStudents.json\",\"a\")\n",
    "json.dump(a,f,indent=4)\n",
    "f.write(data)\n"
   ]
  },
  {
   "cell_type": "code",
   "execution_count": null,
   "id": "d20ea8ae",
   "metadata": {},
   "outputs": [],
   "source": [
    "#Q5. A data file has following data(statid, name, population in crores. No. of Universities)\n"
   ]
  },
  {
   "cell_type": "code",
   "execution_count": 23,
   "id": "960c7e61",
   "metadata": {},
   "outputs": [
    {
     "data": {
      "text/html": [
       "<div>\n",
       "<style scoped>\n",
       "    .dataframe tbody tr th:only-of-type {\n",
       "        vertical-align: middle;\n",
       "    }\n",
       "\n",
       "    .dataframe tbody tr th {\n",
       "        vertical-align: top;\n",
       "    }\n",
       "\n",
       "    .dataframe thead th {\n",
       "        text-align: right;\n",
       "    }\n",
       "</style>\n",
       "<table border=\"1\" class=\"dataframe\">\n",
       "  <thead>\n",
       "    <tr style=\"text-align: right;\">\n",
       "      <th></th>\n",
       "      <th>stateid</th>\n",
       "      <th>name</th>\n",
       "      <th>population in crores</th>\n",
       "      <th>No. of Universities</th>\n",
       "    </tr>\n",
       "  </thead>\n",
       "  <tbody>\n",
       "    <tr>\n",
       "      <th>0</th>\n",
       "      <td>12001</td>\n",
       "      <td>Gujarat</td>\n",
       "      <td>10</td>\n",
       "      <td>29</td>\n",
       "    </tr>\n",
       "    <tr>\n",
       "      <th>1</th>\n",
       "      <td>12002</td>\n",
       "      <td>Maharashtra</td>\n",
       "      <td>19</td>\n",
       "      <td>36</td>\n",
       "    </tr>\n",
       "    <tr>\n",
       "      <th>2</th>\n",
       "      <td>12003</td>\n",
       "      <td>Rajasthan</td>\n",
       "      <td>13</td>\n",
       "      <td>31</td>\n",
       "    </tr>\n",
       "    <tr>\n",
       "      <th>3</th>\n",
       "      <td>12004</td>\n",
       "      <td>MadhyaPradesh</td>\n",
       "      <td>14</td>\n",
       "      <td>21</td>\n",
       "    </tr>\n",
       "    <tr>\n",
       "      <th>4</th>\n",
       "      <td>12005</td>\n",
       "      <td>Punjab</td>\n",
       "      <td>12</td>\n",
       "      <td>13</td>\n",
       "    </tr>\n",
       "    <tr>\n",
       "      <th>5</th>\n",
       "      <td>12006</td>\n",
       "      <td>Karnataka</td>\n",
       "      <td>23</td>\n",
       "      <td>31</td>\n",
       "    </tr>\n",
       "    <tr>\n",
       "      <th>6</th>\n",
       "      <td>12007</td>\n",
       "      <td>Tamilnadu</td>\n",
       "      <td>25</td>\n",
       "      <td>29</td>\n",
       "    </tr>\n",
       "    <tr>\n",
       "      <th>7</th>\n",
       "      <td>1208</td>\n",
       "      <td>Kerala</td>\n",
       "      <td>21</td>\n",
       "      <td>1</td>\n",
       "    </tr>\n",
       "  </tbody>\n",
       "</table>\n",
       "</div>"
      ],
      "text/plain": [
       "   stateid           name   population in crores   No. of Universities\n",
       "0    12001        Gujarat                     10                    29\n",
       "1    12002    Maharashtra                     19                    36\n",
       "2    12003      Rajasthan                     13                    31\n",
       "3    12004  MadhyaPradesh                     14                    21\n",
       "4    12005         Punjab                     12                    13\n",
       "5    12006      Karnataka                     23                    31\n",
       "6    12007      Tamilnadu                     25                    29\n",
       "7     1208         Kerala                     21                     1"
      ]
     },
     "execution_count": 23,
     "metadata": {},
     "output_type": "execute_result"
    }
   ],
   "source": [
    "import pandas as pd\n",
    "df=pd.read_csv(\"data.csv\")\n",
    "df"
   ]
  },
  {
   "cell_type": "code",
   "execution_count": null,
   "id": "44d9a12f",
   "metadata": {},
   "outputs": [],
   "source": [
    "#Q6 A data.csv file has following data(stateid, name, population in crores, No. of Universities)\n",
    "#____data.csv____\n",
    "#read data.csv file. Transfer data to data structure like following States=\n",
    "#{\n",
    "    #12001:{\"name\",\"Gujrat\", \"population\":10,\"no_of_uni\":20},\n",
    "    #12002:{\"name\",\"Gujrat\", \"population\":19,\"no_of_uni\":36}\n",
    "#}"
   ]
  },
  {
   "cell_type": "code",
   "execution_count": 1,
   "id": "2b57f9f9",
   "metadata": {},
   "outputs": [
    {
     "data": {
      "text/html": [
       "<div>\n",
       "<style scoped>\n",
       "    .dataframe tbody tr th:only-of-type {\n",
       "        vertical-align: middle;\n",
       "    }\n",
       "\n",
       "    .dataframe tbody tr th {\n",
       "        vertical-align: top;\n",
       "    }\n",
       "\n",
       "    .dataframe thead th {\n",
       "        text-align: right;\n",
       "    }\n",
       "</style>\n",
       "<table border=\"1\" class=\"dataframe\">\n",
       "  <thead>\n",
       "    <tr style=\"text-align: right;\">\n",
       "      <th></th>\n",
       "      <th>stateid</th>\n",
       "      <th>name</th>\n",
       "      <th>population in crores</th>\n",
       "      <th>No. of Universities</th>\n",
       "    </tr>\n",
       "  </thead>\n",
       "  <tbody>\n",
       "    <tr>\n",
       "      <th>0</th>\n",
       "      <td>12001</td>\n",
       "      <td>Gujarat</td>\n",
       "      <td>10</td>\n",
       "      <td>29</td>\n",
       "    </tr>\n",
       "    <tr>\n",
       "      <th>1</th>\n",
       "      <td>12002</td>\n",
       "      <td>Maharashtra</td>\n",
       "      <td>19</td>\n",
       "      <td>36</td>\n",
       "    </tr>\n",
       "    <tr>\n",
       "      <th>2</th>\n",
       "      <td>12003</td>\n",
       "      <td>Rajasthan</td>\n",
       "      <td>13</td>\n",
       "      <td>31</td>\n",
       "    </tr>\n",
       "    <tr>\n",
       "      <th>3</th>\n",
       "      <td>12004</td>\n",
       "      <td>MadhyaPradesh</td>\n",
       "      <td>14</td>\n",
       "      <td>21</td>\n",
       "    </tr>\n",
       "    <tr>\n",
       "      <th>4</th>\n",
       "      <td>12005</td>\n",
       "      <td>Punjab</td>\n",
       "      <td>12</td>\n",
       "      <td>13</td>\n",
       "    </tr>\n",
       "    <tr>\n",
       "      <th>5</th>\n",
       "      <td>12006</td>\n",
       "      <td>Karnataka</td>\n",
       "      <td>23</td>\n",
       "      <td>31</td>\n",
       "    </tr>\n",
       "    <tr>\n",
       "      <th>6</th>\n",
       "      <td>12007</td>\n",
       "      <td>Tamilnadu</td>\n",
       "      <td>25</td>\n",
       "      <td>29</td>\n",
       "    </tr>\n",
       "    <tr>\n",
       "      <th>7</th>\n",
       "      <td>1208</td>\n",
       "      <td>Kerala</td>\n",
       "      <td>21</td>\n",
       "      <td>1</td>\n",
       "    </tr>\n",
       "  </tbody>\n",
       "</table>\n",
       "</div>"
      ],
      "text/plain": [
       "   stateid           name   population in crores   No. of Universities\n",
       "0    12001        Gujarat                     10                    29\n",
       "1    12002    Maharashtra                     19                    36\n",
       "2    12003      Rajasthan                     13                    31\n",
       "3    12004  MadhyaPradesh                     14                    21\n",
       "4    12005         Punjab                     12                    13\n",
       "5    12006      Karnataka                     23                    31\n",
       "6    12007      Tamilnadu                     25                    29\n",
       "7     1208         Kerala                     21                     1"
      ]
     },
     "execution_count": 1,
     "metadata": {},
     "output_type": "execute_result"
    }
   ],
   "source": [
    "import pandas as pd\n",
    "ff=pd.read_csv(\"java2.csv\")\n",
    "ff"
   ]
  },
  {
   "cell_type": "code",
   "execution_count": 7,
   "id": "3a448cda",
   "metadata": {},
   "outputs": [],
   "source": []
  }
 ],
 "metadata": {
  "kernelspec": {
   "display_name": "Python 3 (ipykernel)",
   "language": "python",
   "name": "python3"
  },
  "language_info": {
   "codemirror_mode": {
    "name": "ipython",
    "version": 3
   },
   "file_extension": ".py",
   "mimetype": "text/x-python",
   "name": "python",
   "nbconvert_exporter": "python",
   "pygments_lexer": "ipython3",
   "version": "3.9.12"
  }
 },
 "nbformat": 4,
 "nbformat_minor": 5
}
